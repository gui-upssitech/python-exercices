{
 "cells": [
  {
   "cell_type": "markdown",
   "metadata": {},
   "source": [
    "# Programmation en Python ---  TP 1 "
   ]
  },
  {
   "cell_type": "markdown",
   "metadata": {},
   "source": [
    "## Environnement de travail\n",
    "\n",
    "Vous êtes libres d'utiliser l'éditeur de votre choix pour écrire vos programmes, et vous pouvez lancer \n",
    "votre programme avec l'interpréteur python à partir du terminal, par exemple~: \n",
    "\n",
    "\n",
    "        python -i monprog.py argument1 argument2 ...\n",
    "\n",
    "\n",
    "Si votre programme attend des arguments (cf exemple ci-dessous), et avec l'option -i pour \n",
    "pouvoir rester dans l'interpréteur et faire différents tests.  \n",
    "\n",
    "Mais il vaut mieux utiliser l'environnement de développement installé sur votre machine: spyder. \n",
    "Cela vous fournit éditeur/environnement d'éxécution/débuggueur/inspection du programme et aide\n",
    "à la demande. \n",
    "\n",
    "\n",
    "\n",
    "<img src=\"spyder.jpeg\">\n",
    "\n",
    "Pour récupérer des arguments d'un programme lancé depuis le terminal, vous pouvez utiliser le module sys\n",
    "\n",
    "sys.argv est alors\n",
    "une liste contenant tous les arguments de l'interpréteur (y compris le nom du programme lancé). \n",
    "\n",
    "Vous pouvez donner des arguments au programme à l'exécution dans Spyder en allant dans le menu\n",
    "\"Execution/Configurer\"\n",
    "\n",
    "\n",
    "\n",
    "Une autre solution est d'utiliser des notebook avec jupyter, ce qui permet de faire des compte-rendus de TP plus facilement. "
   ]
  },
  {
   "cell_type": "code",
   "execution_count": 1,
   "metadata": {},
   "outputs": [
    {
     "name": "stdout",
     "output_type": "stream",
     "text": [
      "/usr/lib/python3/dist-packages/ipykernel_launcher.py\n"
     ]
    }
   ],
   "source": [
    "import sys\n",
    "print(sys.argv[0])"
   ]
  },
  {
   "cell_type": "markdown",
   "metadata": {},
   "source": [
    "#### NB: N'hésitez pas à réutiliser des fonctions d'une partie à l'autre !"
   ]
  },
  {
   "cell_type": "markdown",
   "metadata": {},
   "source": [
    "## Analyse de texte : listes, dictionnaires, ensembles\n",
    "\n",
    "Afin de gagner en familiarité avec les structures de données Python les plus utiles, vous allez\n",
    "développer des fonctions pour analyser le vocabulaire utilisé dans un texte. \n",
    "Vous trouverez sur ma page une version d'Alice aux pays des merveilles, mais vous pouvez récupérer le texte\n",
    "de votre choix. J'ai choisi un texte an anglais pour simplifier les problèmes d'accents. \n",
    "\n",
    "http://www.irit.fr/~Philippe.Muller/alice_wonderland.utf8.txt\n",
    "\n",
    "#### Première approche simple\n",
    "\n",
    "Définissez un ensemble de fonctions pour lire un texte d'un fichier, et compter le nombre d'occurrence de chaque mot. \n",
    "Il faudra bien sûr gérer la ponctuation, entre autres. \n",
    "Le but est de sortir les mots les plus significatifs utilisés dans l'oeuvre considérée. \n",
    "\n",
    "Quels sont les mots les plus fréquents dans le texte ? Qu'en pensez vous ? \n",
    "\n",
    "#### Texte prétraité\n",
    "\n",
    "Vous avez du remarquer entre autres problèmes, que certains mots que l'on voudrait regrouper apparaissent sous des formes\n",
    "différentes (pluriel des noms, verbes conjugués), et que les mots fonctionnels (déterminants, prépositions par exemple)\n",
    "sont courants sans être très intéressants. \n",
    "\n",
    "Vous trouverez dans le fichier http://www.irit.fr/~Philippe.Muller/alice_wonderland.utf8.conll une version du texte déjà prétraité, où chaque ligne correspond à une analyse\n",
    "prélable d'un mot du texte, avec sa forme telle qu'elle apparait dans le texte, son lemme (cad la forme normalisée\n",
    "correspondant à son entrée dans le dictionnaire), et une étiquette donnant sa catégorie: nom, verbe, déterminant, etc.\n",
    "Ecrivez de nouvelles fonctions pour refaire les analyses précédentes de façon plus simple avec ce fichier, en essayant\n",
    "de paramétrer le plus possible (faire varier les catégories à garder par exemple). \n",
    "\n",
    "\n",
    "#### Analyse de séquences\n",
    "Pour avoir des informations plus intéressantes, on peut aussi regarder les séquences de 2 mots consécutifs. \n",
    "Ecrivez des fonctions pour compter toutes les séquences avec l'approche simple, et garder les plus \"intéressantes\"\n",
    "\n",
    "Généraliser pour compter des séquences de longueur arbitraire (fixée à l'avance). On appelle ces séquences\n",
    "de n mots des n-grammes (bigrammes pour n=2, trigrammes pour n=3, etc). \n",
    "\n",
    "Vous pouvez aller voir par curiosité l'inventaire historique fait par Google https://books.google.com/ngrams.\n",
    "\n",
    "#### Bonus: tout combiner\n",
    "Généraliser la question précédente aux fichiers prétraités. \n",
    "\n",
    "\n",
    "Pour la visualisation, vous pouvez aussi essayer la librairie wordcloud: https://amueller.github.io/word_cloud/index.html"
   ]
  },
  {
   "cell_type": "code",
   "execution_count": null,
   "metadata": {},
   "outputs": [],
   "source": []
  }
 ],
 "metadata": {
  "kernelspec": {
   "display_name": "Python 3.10.4 64-bit",
   "language": "python",
   "name": "python3"
  },
  "language_info": {
   "codemirror_mode": {
    "name": "ipython",
    "version": 3
   },
   "file_extension": ".py",
   "mimetype": "text/x-python",
   "name": "python",
   "nbconvert_exporter": "python",
   "pygments_lexer": "ipython3",
   "version": "3.10.4"
  },
  "vscode": {
   "interpreter": {
    "hash": "31f2aee4e71d21fbe5cf8b01ff0e069b9275f58929596ceb00d14d90e3e16cd6"
   }
  }
 },
 "nbformat": 4,
 "nbformat_minor": 1
}
